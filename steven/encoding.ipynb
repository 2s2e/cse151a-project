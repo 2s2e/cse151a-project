{
 "cells": [
  {
   "cell_type": "code",
   "execution_count": 1,
   "metadata": {},
   "outputs": [],
   "source": [
    "import numpy as np\n",
    "import pandas as pd\n",
    "import matplotlib.pyplot as plt\n",
    "from sklearn.preprocessing import LabelEncoder\n"
   ]
  },
  {
   "cell_type": "markdown",
   "metadata": {},
   "source": [
    "Let's try label encoding first "
   ]
  },
  {
   "cell_type": "code",
   "execution_count": 4,
   "metadata": {},
   "outputs": [
    {
     "data": {
      "text/plain": [
       "0         687\n",
       "1         687\n",
       "2         687\n",
       "3         687\n",
       "4         687\n",
       "         ... \n",
       "20713    1616\n",
       "20714    1616\n",
       "20715    1616\n",
       "20716    1616\n",
       "20717    1616\n",
       "Name: Artist_encoded, Length: 20718, dtype: int32"
      ]
     },
     "execution_count": 4,
     "metadata": {},
     "output_type": "execute_result"
    }
   ],
   "source": [
    "df = pd.read_csv('Spotify_Youtube.csv')\n",
    "label_encoder = LabelEncoder()\n",
    "df['Artist_encoded'] = label_encoder.fit_transform(df['Artist'])"
   ]
  },
  {
   "cell_type": "code",
   "execution_count": 6,
   "metadata": {},
   "outputs": [
    {
     "data": {
      "text/plain": [
       "0          0\n",
       "1          0\n",
       "2          0\n",
       "3          0\n",
       "4          0\n",
       "        ... \n",
       "20713    601\n",
       "20714    601\n",
       "20715    601\n",
       "20716    601\n",
       "20717    601\n",
       "Name: Artist_encoded, Length: 20718, dtype: int64"
      ]
     },
     "execution_count": 6,
     "metadata": {},
     "output_type": "execute_result"
    }
   ],
   "source": [
    "#Let's try frequency based encoding!\n",
    "\n",
    "# Calculate the frequency of each artist's songs\n",
    "artist_counts = df['Artist'].value_counts().reset_index()\n",
    "artist_counts.columns = ['Artist', 'Counts']\n",
    "\n",
    "# Sort artists by frequency (highest first)\n",
    "artist_counts = artist_counts.sort_values('Counts', ascending=False).reset_index(drop=True)\n",
    "\n",
    "# Create a mapping from artist names to a numeric label based on song frequency\n",
    "artist_to_numeric = {artist: i for i, artist in enumerate(artist_counts['Artist'])}\n",
    "\n",
    "# Map the artist names in the original dataframe to their numeric labels\n",
    "df['Artist_encoded'] = df['Artist'].map(artist_to_numeric)\n",
    "df['Artist_encoded'] = df['Artist_encoded'].fillna(-1).astype(int)"
   ]
  }
 ],
 "metadata": {
  "kernelspec": {
   "display_name": "Python 3",
   "language": "python",
   "name": "python3"
  },
  "language_info": {
   "codemirror_mode": {
    "name": "ipython",
    "version": 3
   },
   "file_extension": ".py",
   "mimetype": "text/x-python",
   "name": "python",
   "nbconvert_exporter": "python",
   "pygments_lexer": "ipython3",
   "version": "3.10.7"
  }
 },
 "nbformat": 4,
 "nbformat_minor": 2
}
