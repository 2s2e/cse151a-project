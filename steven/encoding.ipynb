{
 "cells": [
  {
   "cell_type": "code",
   "execution_count": 1,
   "metadata": {},
   "outputs": [],
   "source": [
    "import numpy as np\n",
    "import pandas as pd\n",
    "import matplotlib.pyplot as plt\n",
    "from sklearn.preprocessing import LabelEncoder\n"
   ]
  },
  {
   "cell_type": "markdown",
   "metadata": {},
   "source": [
    "Let's try label encoding first "
   ]
  },
  {
   "cell_type": "code",
   "execution_count": 2,
   "metadata": {},
   "outputs": [],
   "source": [
    "df = pd.read_csv('Spotify_Youtube.csv')\n",
    "label_encoder = LabelEncoder()\n",
    "df['Artist_encoded'] = label_encoder.fit_transform(df['Artist'])"
   ]
  },
  {
   "cell_type": "code",
   "execution_count": 4,
   "metadata": {},
   "outputs": [],
   "source": [
    "#Let's try frequency based encoding!\n",
    "\n",
    "\n",
    "def prep_view_based_encoding_artist(df):\n",
    "    # Calculate the total views for each artist\n",
    "    artist_views = df.groupby('Artist')['Views'].sum().reset_index()\n",
    "    artist_views.columns = ['Artist', 'TotalViews']\n",
    "\n",
    "    # Sort artists by total views (highest first)\n",
    "    artist_views = artist_views.sort_values('TotalViews', ascending=False).reset_index(drop=True)\n",
    "\n",
    "    # Create a mapping from artist names to a numeric label based on total views\n",
    "    artist_to_numeric = {artist: i for i, artist in enumerate(artist_views['Artist'])}\n",
    "\n",
    "    # Map the artist names in the original dataframe to their numeric labels based on views\n",
    "    df['Artist_encoded'] = df['Artist'].map(artist_to_numeric)\n",
    "    df['Artist_encoded'] = df['Artist_encoded'].fillna(-1).astype(int)\n",
    "\n",
    "    return df\n",
    "\n",
    "\n",
    "def prep_view_based_encoding_album(df):\n",
    "    # Calculate the total views for each artist\n",
    "    album_views = df.groupby('Album')['Views'].sum().reset_index()\n",
    "    album_views.columns = ['Album', 'TotalViews']\n",
    "\n",
    "    # Sort artists by total views (highest first)\n",
    "    album_views = album_views.sort_values('TotalViews', ascending=False).reset_index(drop=True)\n",
    "\n",
    "    # Create a mapping from artist names to a numeric label based on total views\n",
    "    album_to_numeric = {album: i for i, album in enumerate(album_views['Album'])}\n",
    "\n",
    "    # Map the artist names in the original dataframe to their numeric labels based on views\n",
    "    df['Album_encoded'] = df['Album'].map(album_to_numeric)\n",
    "    df['Album_encoded'] = df['Album_encoded'].fillna(-1).astype(int)\n",
    "\n",
    "    return df\n",
    "\n"
   ]
  },
  {
   "cell_type": "code",
   "execution_count": 5,
   "metadata": {},
   "outputs": [
    {
     "data": {
      "text/plain": [
       "0"
      ]
     },
     "execution_count": 5,
     "metadata": {},
     "output_type": "execute_result"
    }
   ],
   "source": [
    "df['Url_spotify'].isnull().sum()\n"
   ]
  }
 ],
 "metadata": {
  "kernelspec": {
   "display_name": "Python 3",
   "language": "python",
   "name": "python3"
  },
  "language_info": {
   "codemirror_mode": {
    "name": "ipython",
    "version": 3
   },
   "file_extension": ".py",
   "mimetype": "text/x-python",
   "name": "python",
   "nbconvert_exporter": "python",
   "pygments_lexer": "ipython3",
   "version": "3.10.7"
  }
 },
 "nbformat": 4,
 "nbformat_minor": 2
}
